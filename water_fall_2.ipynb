{
  "nbformat": 4,
  "nbformat_minor": 0,
  "metadata": {
    "colab": {
      "provenance": [],
      "authorship_tag": "ABX9TyNO5Ord994Ah9BCW6zBIKSk",
      "include_colab_link": true
    },
    "kernelspec": {
      "name": "python3",
      "display_name": "Python 3"
    },
    "language_info": {
      "name": "python"
    }
  },
  "cells": [
    {
      "cell_type": "markdown",
      "metadata": {
        "id": "view-in-github",
        "colab_type": "text"
      },
      "source": [
        "<a href=\"https://colab.research.google.com/github/SUNANDITHA-PINISETTI/water-fall-model/blob/main/water_fall_2.ipynb\" target=\"_parent\"><img src=\"https://colab.research.google.com/assets/colab-badge.svg\" alt=\"Open In Colab\"/></a>"
      ]
    },
    {
      "cell_type": "code",
      "execution_count": 2,
      "metadata": {
        "colab": {
          "base_uri": "https://localhost:8080/"
        },
        "id": "upDbZiKdpBRF",
        "outputId": "f9e61b84-be0b-4479-a0d5-06f14ec6f297"
      },
      "outputs": [
        {
          "output_type": "stream",
          "name": "stdout",
          "text": [
            "Enter the temperature (T): 10\n",
            "Enter the humidity (H): 20\n",
            "Enter the wind speed (W): 0\n",
            "Weather modeling result (keyboard input): 31.0\n"
          ]
        }
      ],
      "source": [
        "T = float(input(\"Enter the temperature (T): \"))\n",
        "H = float(input(\"Enter the humidity (H): \"))\n",
        "W = float(input(\"Enter the wind speed (W): \"))\n",
        "\n",
        "# Quadratic solution\n",
        "weather_model = 0.5 * T**2 - 0.2 * H + 0.1 * W - 15\n",
        "print(f\"Weather modeling result (keyboard input): {weather_model}\")23"
      ]
    }
  ]
}