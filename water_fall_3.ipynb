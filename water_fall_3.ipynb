{
  "nbformat": 4,
  "nbformat_minor": 0,
  "metadata": {
    "colab": {
      "provenance": [],
      "authorship_tag": "ABX9TyOjWzSd1Q2DORM3h10lhUjm",
      "include_colab_link": true
    },
    "kernelspec": {
      "name": "python3",
      "display_name": "Python 3"
    },
    "language_info": {
      "name": "python"
    }
  },
  "cells": [
    {
      "cell_type": "markdown",
      "metadata": {
        "id": "view-in-github",
        "colab_type": "text"
      },
      "source": [
        "<a href=\"https://colab.research.google.com/github/SUNANDITHA-PINISETTI/water-fall-model/blob/main/water_fall_3.ipynb\" target=\"_parent\"><img src=\"https://colab.research.google.com/assets/colab-badge.svg\" alt=\"Open In Colab\"/></a>"
      ]
    },
    {
      "cell_type": "code",
      "execution_count": 1,
      "metadata": {
        "colab": {
          "base_uri": "https://localhost:8080/"
        },
        "id": "NS5uaAGBpe61",
        "outputId": "4c72f8f2-8f8a-4c37-8cc6-7ec24af9f398"
      },
      "outputs": [
        {
          "output_type": "stream",
          "name": "stdout",
          "text": [
            "For T=58°C, H=30%, W=110 km/h, the predicted weather is: Sunny\n"
          ]
        }
      ],
      "source": [
        "def validate_input_parameters(temperature, humidity, wind_speed):\n",
        "    \"\"\"\n",
        "    Validates input parameters for the weather prediction model.\n",
        "    :param temperature: Temperature in Celsius\n",
        "    :param humidity: Humidity as a percentage\n",
        "    :param wind_speed: Wind speed in km/h\n",
        "    :raises ValueError: If any input parameter is invalid\n",
        "    \"\"\"\n",
        "    if not (isinstance(temperature, (int, float)) and -100 <= temperature <= 100):\n",
        "        raise ValueError(\"Invalid temperature. It should be a number between -100 and 100.\")\n",
        "\n",
        "    if not (isinstance(humidity, (int, float)) and 0 <= humidity <= 100):\n",
        "        raise ValueError(\"Invalid humidity. It should be a number between 0 and 100.\")\n",
        "\n",
        "    if not (isinstance(wind_speed, (int, float)) and 0 <= wind_speed <= 200):\n",
        "        raise ValueError(\"Invalid wind speed. It should be a number between 0 and 200.\")\n",
        "\n",
        "def weather_prediction(temperature, humidity, wind_speed):\n",
        "    \"\"\"\n",
        "    Predicts weather based on a quadratic formula.\n",
        "    :param temperature: Temperature in Celsius\n",
        "    :param humidity: Humidity as a percentage\n",
        "    :param wind_speed: Wind speed in km/h\n",
        "    :return: Weather prediction category\n",
        "    :raises ValueError: If any input parameter is invalid\n",
        "    \"\"\"\n",
        "    try:\n",
        "        validate_input_parameters(temperature, humidity, wind_speed)\n",
        "\n",
        "        # Quadratic formula for weather prediction\n",
        "        prediction = 0.5 * temperature**2 - 0.2 * humidity + 0.1 * wind_speed - 15\n",
        "        # Weather category determination\n",
        "        if prediction > 300:\n",
        "            return \"Sunny\"\n",
        "        elif 200 < prediction <= 300:\n",
        "            return \"Cloudy\"\n",
        "        elif 100 < prediction <= 200:\n",
        "            return \"Rainy\"\n",
        "        elif prediction <= 100:\n",
        "            return \"Stormy\"\n",
        "    except ValueError as ve:\n",
        "        # Handle specific input validation errors\n",
        "        return f\"Error predicting weather: {ve}\"\n",
        "    except Exception as e:\n",
        "        # Handle other exceptions\n",
        "        return f\"Unexpected error predicting weather: {e}\"\n",
        "\n",
        "# Example usage\n",
        "temperature_input = 58\n",
        "humidity_input = 30\n",
        "wind_speed_input = 110  # Intentionally invalid value for demonstration\n",
        "\n",
        "try:\n",
        "    predicted_weather = weather_prediction(temperature_input, humidity_input, wind_speed_input)\n",
        "    print(f\"For T={temperature_input}°C, H={humidity_input}%, W={wind_speed_input} km/h, the predicted weather is: {predicted_weather}\")\n",
        "except ValueError as ve:\n",
        "    print(f\"Input validation error: {ve}\")\n",
        "except Exception as e:\n",
        "    print(f\"Unexpected error: {e}\")"
      ]
    }
  ]
}