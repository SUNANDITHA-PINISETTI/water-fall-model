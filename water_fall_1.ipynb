{
  "nbformat": 4,
  "nbformat_minor": 0,
  "metadata": {
    "colab": {
      "provenance": [],
      "authorship_tag": "ABX9TyMOr7Tb+Q+/X82Oc8hoQVTJ",
      "include_colab_link": true
    },
    "kernelspec": {
      "name": "python3",
      "display_name": "Python 3"
    },
    "language_info": {
      "name": "python"
    }
  },
  "cells": [
    {
      "cell_type": "markdown",
      "metadata": {
        "id": "view-in-github",
        "colab_type": "text"
      },
      "source": [
        "<a href=\"https://colab.research.google.com/github/SUNANDITHA-PINISETTI/water-fall-model/blob/main/water_fall_1.ipynb\" target=\"_parent\"><img src=\"https://colab.research.google.com/assets/colab-badge.svg\" alt=\"Open In Colab\"/></a>"
      ]
    },
    {
      "cell_type": "code",
      "execution_count": 2,
      "metadata": {
        "colab": {
          "base_uri": "https://localhost:8080/"
        },
        "id": "8e3EyQeknkZm",
        "outputId": "4bc6fdd0-f490-4d66-9c3e-b5c74dc6b138"
      },
      "outputs": [
        {
          "output_type": "stream",
          "name": "stdout",
          "text": [
            "Weather modeling result (hardcoded values): 426.0\n"
          ]
        }
      ],
      "source": [
        "\n",
        "T = 30  # Temperature\n",
        "H = 50  # Humidity\n",
        "W = 10  # Wind speed\n",
        "\n",
        "# Quadratic solution\n",
        "weather_model = 0.5 * T**2 - 0.2 * H + 0.1 * W - 15\n",
        "print(f\"Weather modeling result (hardcoded values): {weather_model}\")"
      ]
    }
  ]
}